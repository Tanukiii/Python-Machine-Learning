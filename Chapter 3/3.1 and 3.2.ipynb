{
 "cells": [
  {
   "cell_type": "markdown",
   "metadata": {},
   "source": [
    "# 3.1 "
   ]
  },
  {
   "cell_type": "markdown",
   "metadata": {},
   "source": [
    "### 1 特微量を選択し、ラベル付けされた訓練データを収集する\n",
    "\n",
    "### 2　性能指標を選択する\n",
    "\n",
    "### 3　分類器と最適化アルゴリズムを選択する\n",
    "\n",
    "### 4　モデルの性能を評価する\n",
    "\n",
    "### 5　アルゴリズムを調整する"
   ]
  },
  {
   "cell_type": "markdown",
   "metadata": {},
   "source": [
    "# 3.2"
   ]
  },
  {
   "cell_type": "code",
   "execution_count": 2,
   "metadata": {},
   "outputs": [
    {
     "name": "stdout",
     "output_type": "stream",
     "text": [
      "Class labels: [0 1 2]\n"
     ]
    }
   ],
   "source": [
    "from sklearn import datasets\n",
    "import numpy as np\n",
    "\n",
    "iris = datasets.load_iris()\n",
    "\n",
    "#　３、４行列目の特微量を抽出\n",
    "X = iris.data[:, [2,3]]\n",
    "\n",
    "#　クラスラベル取得\n",
    "y = iris.target\n",
    "\n",
    "#　一意なクラスラベル出力\n",
    "print(\"Class labels:\", np.unique(y))"
   ]
  },
  {
   "cell_type": "code",
   "execution_count": 4,
   "metadata": {},
   "outputs": [],
   "source": [
    "from sklearn.model_selection import train_test_split\n",
    "\n",
    "# stratify = y : 層化サンプリング（ラベルを均一にする）\n",
    "\n",
    "X_train, X_test, y_train, y_test = train_test_split(\n",
    "    X, y, test_size = 0.3, random_state = 1, stratify = y)"
   ]
  },
  {
   "cell_type": "code",
   "execution_count": 6,
   "metadata": {},
   "outputs": [
    {
     "name": "stdout",
     "output_type": "stream",
     "text": [
      "Label counts in y: [50 50 50]\n",
      "Label counts in y_train: [35 35 35]\n",
      "Label counts in y_test: [15 15 15]\n"
     ]
    }
   ],
   "source": [
    "#　ラベルの比率チェック\n",
    "\n",
    "print(\"Label counts in y:\", np.bincount(y))\n",
    "print(\"Label counts in y_train:\", np.bincount(y_train))\n",
    "print(\"Label counts in y_test:\", np.bincount(y_test))"
   ]
  },
  {
   "cell_type": "code",
   "execution_count": 7,
   "metadata": {},
   "outputs": [],
   "source": [
    "from sklearn.preprocessing import StandardScaler\n",
    "sc = StandardScaler()\n",
    "\n",
    "#　trainのstandard deviation and  mean value をチェック\n",
    "sc.fit(X_train)\n",
    "\n",
    "#　標準化\n",
    "X_train_std = sc.transform(X_train)\n",
    "X_test_std = sc.transform(X_test)"
   ]
  },
  {
   "cell_type": "code",
   "execution_count": null,
   "metadata": {},
   "outputs": [],
   "source": [
    "from sklearn.linear_model import Perceptron\n",
    "\n",
    "ppn = Perceptron(eta0 = 0.1, random_state = 1)\n",
    "ppn()"
   ]
  }
 ],
 "metadata": {
  "kernelspec": {
   "display_name": "Python 3",
   "language": "python",
   "name": "python3"
  },
  "language_info": {
   "codemirror_mode": {
    "name": "ipython",
    "version": 3
   },
   "file_extension": ".py",
   "mimetype": "text/x-python",
   "name": "python",
   "nbconvert_exporter": "python",
   "pygments_lexer": "ipython3",
   "version": "3.6.8"
  }
 },
 "nbformat": 4,
 "nbformat_minor": 2
}
